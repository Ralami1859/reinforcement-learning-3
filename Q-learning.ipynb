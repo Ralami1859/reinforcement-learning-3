{
 "cells": [
  {
   "cell_type": "markdown",
   "metadata": {},
   "source": [
    "## Introduction to Q-learning with OpenAI Gym\n",
    "This is a step-by-step guide to using Q-learning in a simple OpenAI gym environment "
   ]
  },
  {
   "cell_type": "markdown",
   "metadata": {},
   "source": [
    "### Table of Contents\n",
    "\n",
    "#### [Setup and Environment](#Setup_and_Environment)\n",
    "- in this section, we download and examine the environment after importing all the necessary libraries;\n",
    "\n",
    "#### [Q-learning](#Q-learning)\n",
    "- in this section, we use Q-learning to solve the Taxi problem.\n"
   ]
  },
  {
   "cell_type": "markdown",
   "metadata": {},
   "source": [
    "## Setup and Environment <a name='Setup_and_Environment'></a>"
   ]
  },
  {
   "cell_type": "markdown",
   "metadata": {},
   "source": [
    "1. install the necessary packages and libraries;\n",
    "2. set up the Taxi environment; \n",
    "3. determine the state and action space for our Q-table."
   ]
  },
  {
   "cell_type": "code",
   "execution_count": 1,
   "metadata": {},
   "outputs": [],
   "source": [
    "import gym\n",
    "import matplotlib.pyplot as plt\n",
    "import numpy as np\n",
    "import random\n",
    "from IPython.display import clear_output\n",
    "\n",
    "import warnings\n",
    "warnings.simplefilter('ignore')\n",
    "\n",
    "%matplotlib inline\n",
    "import seaborn as sns\n",
    "sns.set()"
   ]
  },
  {
   "cell_type": "code",
   "execution_count": 2,
   "metadata": {},
   "outputs": [],
   "source": [
    "#Fixing seed for reproducibility\n",
    "np.random.seed(0) "
   ]
  },
  {
   "cell_type": "code",
   "execution_count": 3,
   "metadata": {},
   "outputs": [
    {
     "name": "stdout",
     "output_type": "stream",
     "text": [
      "+---------+\n",
      "|R: | : :G|\n",
      "| : | : : |\n",
      "| : : : : |\n",
      "| | : | :\u001b[43m \u001b[0m|\n",
      "|\u001b[34;1mY\u001b[0m| : |\u001b[35mB\u001b[0m: |\n",
      "+---------+\n",
      "\n"
     ]
    }
   ],
   "source": [
    "#Loading and rendering the gym environment\n",
    "env = gym.make(\"Taxi-v3\").env\n",
    "env.reset()\n",
    "env.render()"
   ]
  },
  {
   "cell_type": "code",
   "execution_count": 4,
   "metadata": {},
   "outputs": [
    {
     "name": "stdout",
     "output_type": "stream",
     "text": [
      "Action Space Discrete(6)\n",
      "State Space Discrete(500)\n"
     ]
    }
   ],
   "source": [
    "#Getting the state space\n",
    "print(\"Action Space {}\".format(env.action_space))\n",
    "print(\"State Space {}\".format(env.observation_space))"
   ]
  },
  {
   "cell_type": "markdown",
   "metadata": {},
   "source": [
    "## Q-learning <a name='Q-learning'></a>"
   ]
  },
  {
   "cell_type": "markdown",
   "metadata": {},
   "source": [
    "1. initialize our Q-table given the state and action space in STEP 1;\n",
    "    - choose the hyperparameters for training;\n",
    "2. choose an action: explore or exploit in STEP 2;\n",
    "3. perform the action and measure the reward in STEPs 3 & 4;\n",
    "4. ^^\n",
    "5. update the Q-table using the Bellman equation in STEP 5.\n",
    "    - update the collected rewards\n",
    "    - use decay to balance exploration and exploitation"
   ]
  },
  {
   "cell_type": "code",
   "execution_count": 5,
   "metadata": {},
   "outputs": [],
   "source": [
    "#STEP 1 - Initializing the Q-table\n",
    "\n",
    "Q = np.zeros((env.observation_space.n, env.action_space.n))"
   ]
  },
  {
   "cell_type": "code",
   "execution_count": 11,
   "metadata": {},
   "outputs": [],
   "source": [
    "#Setting the hyperparameters\n",
    "              \n",
    "alpha = 0.7 #learning rate                 \n",
    "discount_factor = 0.618               \n",
    "epsilon = 1                  \n",
    "max_epsilon = 1\n",
    "min_epsilon = 0.01         \n",
    "decay = 0.01         \n",
    "\n",
    "train_episodes = 2000    \n",
    "test_episodes = 100          \n",
    "max_steps = 100 "
   ]
  },
  {
   "cell_type": "code",
   "execution_count": 12,
   "metadata": {},
   "outputs": [
    {
     "name": "stdout",
     "output_type": "stream",
     "text": [
      "Training score over time: -18.573\n"
     ]
    }
   ],
   "source": [
    "#Training the agent\n",
    "\n",
    "#Creating lists to keep track of reward and epsilon values\n",
    "training_rewards = []  \n",
    "epsilons = []\n",
    "\n",
    "for episode in range(train_episodes):\n",
    "    #Reseting the environment each time as per requirement\n",
    "    state = env.reset()    \n",
    "    #Starting the tracker for the rewards\n",
    "    total_training_rewards = 0\n",
    "    \n",
    "    for step in range(100):\n",
    "        #Choosing an action given the states based on a random number\n",
    "        exp_exp_tradeoff = random.uniform(0, 1) \n",
    "        \n",
    "        \n",
    "        ### STEP 2: SECOND option for choosing the initial action - exploit     \n",
    "        #If the random number is larger than epsilon: employing exploitation \n",
    "        #and selecting best action \n",
    "        if exp_exp_tradeoff > epsilon:\n",
    "            action = np.argmax(Q[state,:])      \n",
    "            \n",
    "        ### STEP 2: FIRST option for choosing the initial action - explore       \n",
    "        #Otherwise, employing exploration: choosing a random action \n",
    "        else:\n",
    "            action = env.action_space.sample()\n",
    "            \n",
    "            \n",
    "        ### STEPs 3 & 4: performing the action and getting the reward     \n",
    "        #Taking the action and getting the reward and outcome state\n",
    "        new_state, reward, done, info = env.step(action)\n",
    "        \n",
    "\n",
    "        ### STEP 5: update the Q-table\n",
    "        #Updating the Q-table using the Bellman equation\n",
    "        Q[state, action] = Q[state, action] + alpha * (reward + discount_factor * np.max(Q[new_state, :]) - Q[state, action]) \n",
    "        #Increasing our total reward and updating the state\n",
    "        total_training_rewards += reward      \n",
    "        state = new_state         \n",
    "        \n",
    "        #Ending the episode\n",
    "        if done == True:\n",
    "            #print (\"Total reward for episode {}: {}\".format(episode, total_training_rewards))\n",
    "            break\n",
    "    \n",
    "    #Cutting down on exploration by reducing the epsilon \n",
    "    epsilon = min_epsilon + (max_epsilon - min_epsilon)*np.exp(-decay*episode)\n",
    "    \n",
    "    #Adding the total reward and reduced epsilon values\n",
    "    training_rewards.append(total_training_rewards)\n",
    "    epsilons.append(epsilon)\n",
    "    \n",
    "    \n",
    "\n",
    "print (\"Training score over time: \" + str(sum(training_rewards)/train_episodes))"
   ]
  },
  {
   "cell_type": "code",
   "execution_count": 13,
   "metadata": {},
   "outputs": [
    {
     "data": {
      "image/png": "[encoded data removed]",
      "text/plain": [
       "<Figure size 432x288 with 1 Axes>"
      ]
     },
     "metadata": {
      "needs_background": "light"
     },
     "output_type": "display_data"
    }
   ],
   "source": [
    "#Visualizing results and total reward over all episodes\n",
    "x = range(train_episodes)\n",
    "plt.plot(x, training_rewards)\n",
    "plt.xlabel('Episode')\n",
    "plt.ylabel('Training total reward')\n",
    "plt.title('Total rewards over all episodes in training') \n",
    "plt.show()"
   ]
  },
  {
   "cell_type": "code",
   "execution_count": 14,
   "metadata": {},
   "outputs": [
    {
     "data": {
      "image/png": "[encoded data removed]",
      "text/plain": [
       "<Figure size 432x288 with 1 Axes>"
      ]
     },
     "metadata": {
      "needs_background": "light"
     },
     "output_type": "display_data"
    }
   ],
   "source": [
    "#Visualizing the epsilons over all episodes\n",
    "plt.plot(epsilons)\n",
    "plt.xlabel('Episode')\n",
    "plt.ylabel('Epsilon')\n",
    "plt.title(\"Epsilon for episode\")\n",
    "plt.show()"
   ]
  },
  {
   "cell_type": "code",
   "execution_count": null,
   "metadata": {},
   "outputs": [],
   "source": []
  }
 ],
 "metadata": {
  "kernelspec": {
   "display_name": "Python 3",
   "language": "python",
   "name": "python3"
  },
  "language_info": {
   "codemirror_mode": {
    "name": "ipython",
    "version": 3
   },
   "file_extension": ".py",
   "mimetype": "text/x-python",
   "name": "python",
   "nbconvert_exporter": "python",
   "pygments_lexer": "ipython3",
   "version": "3.7.4"
  }
 },
 "nbformat": 4,
 "nbformat_minor": 2
}
